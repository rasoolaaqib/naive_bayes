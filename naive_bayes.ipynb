{
 "cells": [
  {
   "cell_type": "code",
   "execution_count": 1,
   "metadata": {},
   "outputs": [],
   "source": [
    "import os\n",
    "import pandas as pd\n",
    "import numpy as np\n",
    "from natsort import natsorted\n",
    "import re\n",
    "import string\n",
    "from collections import Counter\n",
    "import timeit\n",
    "import matplotlib.pyplot as plt\n",
    "import math\n",
    "import collections\n",
    "import operator\n",
    "import time"
   ]
  },
  {
   "cell_type": "code",
   "execution_count": 2,
   "metadata": {},
   "outputs": [],
   "source": [
    "#reading train data (positive)\n",
    "a = os.listdir('train/pos')\n",
    "a = natsorted(a)\n",
    "train_pos = []\n",
    "for x in a:\n",
    "    file_path = \"train/pos/\"+x\n",
    "    f = open(file_path,'r+',encoding = \"utf8\")\n",
    "    read = f.read()\n",
    "    train_pos.append(read)\n",
    "f.close()"
   ]
  },
  {
   "cell_type": "code",
   "execution_count": 3,
   "metadata": {},
   "outputs": [],
   "source": [
    "#reading train data (negative)\n",
    "a = os.listdir('train/neg')\n",
    "a = natsorted(a)\n",
    "train_neg = []\n",
    "for x in a:\n",
    "    file_path = \"train/neg/\"+x\n",
    "    f = open(file_path,'r+',encoding = \"utf8\")\n",
    "    read = f.read()\n",
    "    train_neg.append(read)\n",
    "    f.close()"
   ]
  },
  {
   "cell_type": "code",
   "execution_count": 4,
   "metadata": {},
   "outputs": [],
   "source": [
    "#reading test data (positive)\n",
    "test_dir = os.listdir('test/pos')\n",
    "test_dir = natsorted(test_dir)\n",
    "test_pos = []\n",
    "for x_test in test_dir:\n",
    "    file_path = \"test/pos/\"+x_test\n",
    "    f_test = open(file_path,'r+',encoding = \"utf8\")\n",
    "    read = f_test.read()\n",
    "    test_pos.append(read)\n",
    "    f_test.close()"
   ]
  },
  {
   "cell_type": "code",
   "execution_count": 5,
   "metadata": {},
   "outputs": [],
   "source": [
    "#reading test data (negaitive)\n",
    "test_dir = os.listdir('test/neg')\n",
    "test_dir = natsorted(test_dir)\n",
    "test_neg = []\n",
    "for x_test in test_dir:\n",
    "    file_path = \"test/neg/\"+x_test\n",
    "    f_test = open(file_path,'r+',encoding = \"utf8\")\n",
    "    read = f_test.read()\n",
    "    test_neg.append(read)\n",
    "    f_test.close()"
   ]
  },
  {
   "cell_type": "code",
   "execution_count": 6,
   "metadata": {},
   "outputs": [],
   "source": [
    "#reading stop words\n",
    "f = open('stop_words.txt', 'r+')\n",
    "stop_words = f.read().splitlines()"
   ]
  },
  {
   "cell_type": "code",
   "execution_count": 7,
   "metadata": {},
   "outputs": [],
   "source": [
    "#converting to lowercase\n",
    "def conv_lc(x):\n",
    "    x = list(map(lambda x: x.lower(), x))\n",
    "    return x"
   ]
  },
  {
   "cell_type": "code",
   "execution_count": 8,
   "metadata": {},
   "outputs": [],
   "source": [
    "#removing stop words\n",
    "def remove_stopwords(x):\n",
    "    stop = re.compile(r'\\b%s\\b' % r'\\b|\\b'.join(map(re.escape, stop_words)))\n",
    "    for i,j in enumerate(x):    \n",
    "        x[i] = stop.sub(\"\", j)\n",
    "    return x"
   ]
  },
  {
   "cell_type": "code",
   "execution_count": 9,
   "metadata": {},
   "outputs": [],
   "source": [
    "#removing punctuations\n",
    "def remove_punc(x):\n",
    "    table = str.maketrans(dict.fromkeys(string.punctuation))\n",
    "    for i, j in enumerate(x):\n",
    "        x[i]=j.translate(table)\n",
    "    return x"
   ]
  },
  {
   "cell_type": "code",
   "execution_count": 10,
   "metadata": {},
   "outputs": [],
   "source": [
    "#removing numbers\n",
    "def remove_numbers(x):\n",
    "    for i,j in enumerate(x):\n",
    "        x[i]=re.sub(\"\\b\\d+\\b\", \"\", j)\n",
    "    return x"
   ]
  },
  {
   "cell_type": "code",
   "execution_count": 11,
   "metadata": {},
   "outputs": [],
   "source": [
    "train_pos=conv_lc(train_pos)\n",
    "train_neg=conv_lc(train_neg)\n",
    "\n",
    "train_pos=remove_stopwords(train_pos)\n",
    "train_neg=remove_stopwords(train_neg)\n",
    "\n",
    "train_pos=remove_punc(train_pos)\n",
    "train_neg=remove_punc(train_neg)\n",
    "\n",
    "train_pos=remove_numbers(train_pos)\n",
    "train_neg=remove_numbers(train_neg)"
   ]
  },
  {
   "cell_type": "code",
   "execution_count": 12,
   "metadata": {},
   "outputs": [],
   "source": [
    "test_pos=conv_lc(test_pos)\n",
    "test_neg=conv_lc(test_neg)\n",
    "\n",
    "test_pos=remove_stopwords(test_pos)\n",
    "test_neg=remove_stopwords(test_neg)\n",
    "\n",
    "test_pos=remove_punc(test_pos)\n",
    "test_neg=remove_punc(test_neg)\n",
    "\n",
    "test_pos=remove_numbers(test_pos)\n",
    "test_neg=remove_numbers(test_neg)"
   ]
  },
  {
   "cell_type": "code",
   "execution_count": 13,
   "metadata": {},
   "outputs": [
    {
     "data": {
      "text/html": [
       "<div>\n",
       "<style scoped>\n",
       "    .dataframe tbody tr th:only-of-type {\n",
       "        vertical-align: middle;\n",
       "    }\n",
       "\n",
       "    .dataframe tbody tr th {\n",
       "        vertical-align: top;\n",
       "    }\n",
       "\n",
       "    .dataframe thead th {\n",
       "        text-align: right;\n",
       "    }\n",
       "</style>\n",
       "<table border=\"1\" class=\"dataframe\">\n",
       "  <thead>\n",
       "    <tr style=\"text-align: right;\">\n",
       "      <th></th>\n",
       "      <th>review</th>\n",
       "      <th>sentiment</th>\n",
       "    </tr>\n",
       "  </thead>\n",
       "  <tbody>\n",
       "    <tr>\n",
       "      <th>0</th>\n",
       "      <td>bromwell high   cartoon comedy  ran    time   ...</td>\n",
       "      <td>positive</td>\n",
       "    </tr>\n",
       "    <tr>\n",
       "      <th>1</th>\n",
       "      <td>like adult comedy cartoons like south park  ...</td>\n",
       "      <td>positive</td>\n",
       "    </tr>\n",
       "    <tr>\n",
       "      <th>2</th>\n",
       "      <td>bromwell high  nothing short  brilliant expert...</td>\n",
       "      <td>positive</td>\n",
       "    </tr>\n",
       "    <tr>\n",
       "      <th>3</th>\n",
       "      <td>world  stage   people actors   something lik...</td>\n",
       "      <td>positive</td>\n",
       "    </tr>\n",
       "    <tr>\n",
       "      <th>4</th>\n",
       "      <td>futz    show preserved   experimental theatre ...</td>\n",
       "      <td>positive</td>\n",
       "    </tr>\n",
       "    <tr>\n",
       "      <th>...</th>\n",
       "      <td>...</td>\n",
       "      <td>...</td>\n",
       "    </tr>\n",
       "    <tr>\n",
       "      <th>12495</th>\n",
       "      <td>ok  love bad horror  especially love horror ba...</td>\n",
       "      <td>negative</td>\n",
       "    </tr>\n",
       "    <tr>\n",
       "      <th>12496</th>\n",
       "      <td>brutally honest  loved watching severed   br...</td>\n",
       "      <td>negative</td>\n",
       "    </tr>\n",
       "    <tr>\n",
       "      <th>12497</th>\n",
       "      <td>sure   folks   texaslouisiana border must    ...</td>\n",
       "      <td>negative</td>\n",
       "    </tr>\n",
       "    <tr>\n",
       "      <th>12498</th>\n",
       "      <td>film   kernel   really good story  work   men...</td>\n",
       "      <td>negative</td>\n",
       "    </tr>\n",
       "    <tr>\n",
       "      <th>12499</th>\n",
       "      <td>went   movie   sneak preview  austria     ide...</td>\n",
       "      <td>negative</td>\n",
       "    </tr>\n",
       "  </tbody>\n",
       "</table>\n",
       "<p>25000 rows × 2 columns</p>\n",
       "</div>"
      ],
      "text/plain": [
       "                                                  review sentiment\n",
       "0      bromwell high   cartoon comedy  ran    time   ...  positive\n",
       "1        like adult comedy cartoons like south park  ...  positive\n",
       "2      bromwell high  nothing short  brilliant expert...  positive\n",
       "3        world  stage   people actors   something lik...  positive\n",
       "4      futz    show preserved   experimental theatre ...  positive\n",
       "...                                                  ...       ...\n",
       "12495  ok  love bad horror  especially love horror ba...  negative\n",
       "12496    brutally honest  loved watching severed   br...  negative\n",
       "12497   sure   folks   texaslouisiana border must    ...  negative\n",
       "12498   film   kernel   really good story  work   men...  negative\n",
       "12499   went   movie   sneak preview  austria     ide...  negative\n",
       "\n",
       "[25000 rows x 2 columns]"
      ]
     },
     "execution_count": 13,
     "metadata": {},
     "output_type": "execute_result"
    }
   ],
   "source": [
    "#building a DataFrame for train data\n",
    "df_pos = pd.DataFrame(columns=['review'])\n",
    "df_pos['review']=train_pos\n",
    "df_pos['sentiment']=\"positive\"\n",
    "\n",
    "df_neg = pd.DataFrame(columns=['review'])\n",
    "df_neg['review']=train_neg\n",
    "df_neg['sentiment']=\"negative\"\n",
    "\n",
    "#train data DataFrame\n",
    "df=pd.DataFrame()\n",
    "df=df_pos\n",
    "df = df.append(df_neg)\n",
    "df"
   ]
  },
  {
   "cell_type": "code",
   "execution_count": 14,
   "metadata": {},
   "outputs": [
    {
     "data": {
      "text/html": [
       "<div>\n",
       "<style scoped>\n",
       "    .dataframe tbody tr th:only-of-type {\n",
       "        vertical-align: middle;\n",
       "    }\n",
       "\n",
       "    .dataframe tbody tr th {\n",
       "        vertical-align: top;\n",
       "    }\n",
       "\n",
       "    .dataframe thead th {\n",
       "        text-align: right;\n",
       "    }\n",
       "</style>\n",
       "<table border=\"1\" class=\"dataframe\">\n",
       "  <thead>\n",
       "    <tr style=\"text-align: right;\">\n",
       "      <th></th>\n",
       "      <th>review</th>\n",
       "      <th>sentiment</th>\n",
       "    </tr>\n",
       "  </thead>\n",
       "  <tbody>\n",
       "    <tr>\n",
       "      <th>0</th>\n",
       "      <td>went  saw  movie last night   coaxed     frie...</td>\n",
       "      <td>positive</td>\n",
       "    </tr>\n",
       "    <tr>\n",
       "      <th>1</th>\n",
       "      <td>boyfriend   went  watch  guardian first   wan...</td>\n",
       "      <td>positive</td>\n",
       "    </tr>\n",
       "    <tr>\n",
       "      <th>2</th>\n",
       "      <td>yardstick  measuring  movie watchability    g...</td>\n",
       "      <td>positive</td>\n",
       "    </tr>\n",
       "    <tr>\n",
       "      <th>3</th>\n",
       "      <td>many movies      think    see  movie like    ...</td>\n",
       "      <td>positive</td>\n",
       "    </tr>\n",
       "    <tr>\n",
       "      <th>4</th>\n",
       "      <td>movie  sadly promoted  proved   truly excepti...</td>\n",
       "      <td>positive</td>\n",
       "    </tr>\n",
       "    <tr>\n",
       "      <th>...</th>\n",
       "      <td>...</td>\n",
       "      <td>...</td>\n",
       "    </tr>\n",
       "    <tr>\n",
       "      <th>12495</th>\n",
       "      <td>cybertracker  set  los angeles sometime   near...</td>\n",
       "      <td>negative</td>\n",
       "    </tr>\n",
       "    <tr>\n",
       "      <th>12496</th>\n",
       "      <td>eric phillips  wilson   secret service agent  ...</td>\n",
       "      <td>negative</td>\n",
       "    </tr>\n",
       "    <tr>\n",
       "      <th>12497</th>\n",
       "      <td>plot synopsis los angeles   future crime  kept...</td>\n",
       "      <td>negative</td>\n",
       "    </tr>\n",
       "    <tr>\n",
       "      <th>12498</th>\n",
       "      <td>oh dear     one   worst films   ever seen  unb...</td>\n",
       "      <td>negative</td>\n",
       "    </tr>\n",
       "    <tr>\n",
       "      <th>12499</th>\n",
       "      <td>movie  sooo bad   even funny    even  sarcast...</td>\n",
       "      <td>negative</td>\n",
       "    </tr>\n",
       "  </tbody>\n",
       "</table>\n",
       "<p>25000 rows × 2 columns</p>\n",
       "</div>"
      ],
      "text/plain": [
       "                                                  review sentiment\n",
       "0       went  saw  movie last night   coaxed     frie...  positive\n",
       "1       boyfriend   went  watch  guardian first   wan...  positive\n",
       "2       yardstick  measuring  movie watchability    g...  positive\n",
       "3       many movies      think    see  movie like    ...  positive\n",
       "4       movie  sadly promoted  proved   truly excepti...  positive\n",
       "...                                                  ...       ...\n",
       "12495  cybertracker  set  los angeles sometime   near...  negative\n",
       "12496  eric phillips  wilson   secret service agent  ...  negative\n",
       "12497  plot synopsis los angeles   future crime  kept...  negative\n",
       "12498  oh dear     one   worst films   ever seen  unb...  negative\n",
       "12499   movie  sooo bad   even funny    even  sarcast...  negative\n",
       "\n",
       "[25000 rows x 2 columns]"
      ]
     },
     "execution_count": 14,
     "metadata": {},
     "output_type": "execute_result"
    }
   ],
   "source": [
    "#building a DataFrame for test data\n",
    "df_pos_test = pd.DataFrame(columns=['review'])\n",
    "df_pos_test['review']=test_pos\n",
    "df_pos_test['sentiment']='positive'\n",
    "\n",
    "df_neg_test = pd.DataFrame(columns=['review'])\n",
    "df_neg_test['review']=test_neg\n",
    "df_neg_test['sentiment']='negative'\n",
    "\n",
    "#test data DataFrame\n",
    "df_test=pd.DataFrame()\n",
    "df_test=df_pos_test\n",
    "df_test = df_test.append(df_neg_test)\n",
    "df_test"
   ]
  },
  {
   "cell_type": "code",
   "execution_count": 15,
   "metadata": {},
   "outputs": [],
   "source": [
    "def train_naive_bayes(D,C):\n",
    "    logprior = []\n",
    "    V= []\n",
    "    bigdoc=[]\n",
    "    likelihood=[]\n",
    "    count_pos=0\n",
    "    count_neg=0\n",
    "    #building vocabulary\n",
    "    for x in D['review'].values:\n",
    "        a = x.split()\n",
    "        V.extend(a);\n",
    "    V = list(set(V))\n",
    "    #for each class\n",
    "    for c in C:\n",
    "        d=[]\n",
    "        x=c\n",
    "        N_doc = N_doc = len(D['review'])                          #number of documents in D\n",
    "        N_c = len(D[D['sentiment']==c])                           #number of documents in D in class c\n",
    "        logprior.append(np.log(N_c/N_doc))                        #calculating logprior\n",
    "        for y in D[D['sentiment']==c]['review'].values:           #building bigdoc for both classes\n",
    "            z = y.split()\n",
    "            d.extend(z)\n",
    "        d = list(d)\n",
    "        bigdoc.append(d)                                          \n",
    "    for i in range(2):                                            #calculating loglikelihood\n",
    "        s = len(bigdoc[i])+len(V)\n",
    "        e = {}\n",
    "        count = Counter(bigdoc[i])\n",
    "        for w in V:\n",
    "            e[w] = math.log((count[w]+1)/s)\n",
    "        likelihood.append(e)         \n",
    "    return logprior,likelihood, V                                 #returning logprior, loglikelihood, and vocabulary"
   ]
  },
  {
   "cell_type": "code",
   "execution_count": 16,
   "metadata": {},
   "outputs": [],
   "source": [
    "classes = df['sentiment'].unique()\n",
    "logprior,likelihood, V = train_naive_bayes(df,classes)           #training naive bayes"
   ]
  },
  {
   "cell_type": "code",
   "execution_count": 17,
   "metadata": {},
   "outputs": [],
   "source": [
    "def test_naive_bayes (testdoc,logprior,loglikelihood,C,V):\n",
    "    sum[\"positive\"]=logprior[0]\n",
    "    sum[\"negative\"]=logprior[1]\n",
    "    z = testdoc.split()\n",
    "    z = set(z)\n",
    "    for y in z:\n",
    "        try:\n",
    "            sum[\"positive\"]+=loglikelihood[0][y]\n",
    "            sum[\"negative\"]+=loglikelihood[1][y]\n",
    "        except:\n",
    "            continue                                            #if word not found in likelihood an exception will occur, if so move to next word in testdoc\n",
    "    return max(sum.items(), key=operator.itemgetter(1))[0]      #returning key of the max value. i.e. 'positive' or 'negative'\n",
    "        "
   ]
  },
  {
   "cell_type": "code",
   "execution_count": 18,
   "metadata": {},
   "outputs": [],
   "source": [
    "predicted=[]\n",
    "sum = {\"positive\":0,\"negative\":0}\n",
    "for x in list(df_test['review'].values):\n",
    "    a = test_naive_bayes(x,logprior,likelihood,classes,V)      #testing our trained naive bayes\n",
    "    predicted.append(a)                                        #giving us a list of predicted labels"
   ]
  },
  {
   "cell_type": "code",
   "execution_count": 19,
   "metadata": {},
   "outputs": [
    {
     "name": "stdout",
     "output_type": "stream",
     "text": [
      "Part 1 Accuracy = 83.872 %\n"
     ]
    }
   ],
   "source": [
    "#calculating Accuracy\n",
    "count = 0\n",
    "for i in range(df_test['review'].values.size):\n",
    "    if predicted[i] == df_test['sentiment'].values[i]:\n",
    "        count+=1\n",
    "print(\"My model Accuracy =\",(count/df_test['sentiment'].values.size)*100,\"%\")"
   ]
  },
  {
   "cell_type": "code",
   "execution_count": 20,
   "metadata": {},
   "outputs": [],
   "source": [
    "from sklearn.feature_extraction.text import CountVectorizer\n",
    "from sklearn.naive_bayes import MultinomialNB\n",
    "from sklearn.metrics import accuracy_score\n",
    "from sklearn.metrics import confusion_matrix"
   ]
  },
  {
   "cell_type": "code",
   "execution_count": 21,
   "metadata": {},
   "outputs": [],
   "source": [
    "#using datasets from part 1\n",
    "vectorizer = CountVectorizer()\n",
    "train_p2 = vectorizer.fit_transform(df['review'].values)\n",
    "test_p2=vectorizer.transform(df_test['review'].values)\n",
    "NB=MultinomialNB()\n",
    "NB.fit(train_p2,df['sentiment'].values)\n",
    "p = NB.predict(test_p2)                                         #predicted labels"
   ]
  },
  {
   "cell_type": "code",
   "execution_count": 22,
   "metadata": {},
   "outputs": [
    {
     "name": "stdout",
     "output_type": "stream",
     "text": [
      "Part 2 Accuracy = 82.89999999999999 %\n"
     ]
    }
   ],
   "source": [
    "#calculating Accuracy\n",
    "accu = accuracy_score(df_test['sentiment'].values, p)\n",
    "print(\"Sci-kit learn Accuracy =\",accu*100,\"%\")"
   ]
  },
  {
   "cell_type": "code",
   "execution_count": 23,
   "metadata": {},
   "outputs": [
    {
     "name": "stdout",
     "output_type": "stream",
     "text": [
      "Confusion matrix:\n",
      "[[11013  1487]\n",
      " [ 2788  9712]]\n"
     ]
    }
   ],
   "source": [
    "#calculating the confusion matrix\n",
    "cm = confusion_matrix(df_test['sentiment'].values, p)\n",
    "print(\"Confusion matrix:\")\n",
    "print(cm)"
   ]
  }
 ],
 "metadata": {
  "kernelspec": {
   "display_name": "Python 3",
   "language": "python",
   "name": "python3"
  },
  "language_info": {
   "codemirror_mode": {
    "name": "ipython",
    "version": 3
   },
   "file_extension": ".py",
   "mimetype": "text/x-python",
   "name": "python",
   "nbconvert_exporter": "python",
   "pygments_lexer": "ipython3",
   "version": "3.8.3"
  }
 },
 "nbformat": 4,
 "nbformat_minor": 2
}
